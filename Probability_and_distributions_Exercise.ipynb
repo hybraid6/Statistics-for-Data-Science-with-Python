{
 "cells": [
  {
   "cell_type": "markdown",
   "id": "cd88ea27",
   "metadata": {},
   "source": [
    "<div align=\"center\" style=\" font-size: 80%; text-align: center; margin: 0 auto\">\n",
    "<img src=\"https://raw.githubusercontent.com/Explore-AI/Pictures/master/Python-Notebook-Banners/Exercise.png\"  style=\"display: block; margin-left: auto; margin-right: auto;\";/>\n",
    "</div>"
   ]
  },
  {
   "cell_type": "markdown",
   "id": "f662d169",
   "metadata": {},
   "source": [
    "# Exercise: Probability and distributions\n",
    "© ExploreAI Academy"
   ]
  },
  {
   "cell_type": "markdown",
   "id": "26af890c",
   "metadata": {},
   "source": [
    "In this exercise, we test our understanding of statistical concepts, probability, and different types of distributions that can be used to analyse data using the stats package script in Python.\n",
    "\n"
   ]
  },
  {
   "cell_type": "markdown",
   "id": "2d230d14",
   "metadata": {
    "tags": []
   },
   "source": [
    "## Learning objectives\n",
    "\n",
    "In this train, we will learn:\n",
    "- Understand how to calculate basic statistical measures in Python.\n",
    "- Learn how to calculate different probability distributions using the Scipy library.\n",
    "- Apply statistical methods in Python to solve real-world scenarios."
   ]
  },
  {
   "cell_type": "markdown",
   "id": "de45a481",
   "metadata": {},
   "source": [
    "## Exercises"
   ]
  },
  {
   "cell_type": "markdown",
   "id": "5a0b7683",
   "metadata": {
    "tags": []
   },
   "source": [
    "### Exercise 1\n",
    "\n",
    "Given a 1D Numpy array `temperatures` representing the daily average temperatures (in degrees Celsius) of a month, write a Python function named `describe_temperatures` that returns the mean, median, and standard deviation of the temperatures.\n"
   ]
  },
  {
   "cell_type": "code",
   "execution_count": 1,
   "id": "d1814868",
   "metadata": {},
   "outputs": [],
   "source": [
    "import numpy as np\n",
    "\n",
    "temperatures = np.array([22, 25, 19, 21, 24, 28, 23, 20])"
   ]
  },
  {
   "cell_type": "code",
   "execution_count": 2,
   "id": "c2ee76ec",
   "metadata": {},
   "outputs": [],
   "source": [
    "def describe_temperatures(temperatures):\n",
    "    mean_temp = np.mean(temperatures)  # Calculate mean\n",
    "    median_temp = np.median(temperatures)  # Calculate median\n",
    "    std_temp = np.std(temperatures)  # Calculate standard deviation\n",
    "    return mean_temp, median_temp, std_temp"
   ]
  },
  {
   "cell_type": "code",
   "execution_count": 3,
   "id": "f627963d",
   "metadata": {},
   "outputs": [
    {
     "data": {
      "text/plain": [
       "(22.75, 22.5, 2.7271780286589284)"
      ]
     },
     "execution_count": 3,
     "metadata": {},
     "output_type": "execute_result"
    }
   ],
   "source": [
    "# Testing the function\n",
    "describe_temperatures(temperatures)"
   ]
  },
  {
   "cell_type": "markdown",
   "id": "dc9b7dc6",
   "metadata": {},
   "source": [
    "### Exercise 2\n",
    "\n",
    "Write a Python snippet that calculates the probability of observing a rare bird species at least once in a week in a national park, given the daily observation probability is 0.1. Use the binomial distribution from `scipy.stats`.\n"
   ]
  },
  {
   "cell_type": "code",
   "execution_count": 4,
   "id": "ae48fab0",
   "metadata": {},
   "outputs": [
    {
     "data": {
      "text/plain": [
       "0.5217030999999999"
      ]
     },
     "execution_count": 4,
     "metadata": {},
     "output_type": "execute_result"
    }
   ],
   "source": [
    "from scipy.stats import binom\n",
    "\n",
    "n = 7  # Number of days in a week\n",
    "p = 0.1  # Daily observation probability\n",
    "\n",
    "probability = 1 - binom.pmf(0, n, p)  # Probability of observing at least once\n",
    "probability"
   ]
  },
  {
   "cell_type": "markdown",
   "id": "35fe926f",
   "metadata": {},
   "source": [
    "### Exercise 3\n",
    "\n",
    "Consider a discrete random variable `X`, which denotes the number of households in a neighbourhood that recycle out of 10 households. Assume that the recycling behaviours of the households are independent of each other and follow a binomial distribution, with each household having a fixed probability of 0.75 on deciding to recycle. Write a Python code snippet that calculates and plots the probability mass function (PMF) of `X`."
   ]
  },
  {
   "cell_type": "code",
   "execution_count": 5,
   "id": "58ce1282",
   "metadata": {},
   "outputs": [
    {
     "data": {
      "image/png": "[encoded data removed]",
      "text/plain": [
       "<Figure size 640x480 with 1 Axes>"
      ]
     },
     "metadata": {},
     "output_type": "display_data"
    }
   ],
   "source": [
    "import matplotlib.pyplot as plt\n",
    "from scipy.stats import binom\n",
    "\n",
    "n = 10  # Number of households\n",
    "p = 0.75  # Probability of a household recycling\n",
    "x = np.arange(0, n+1)  # Possible outcomes: 0 to n households\n",
    "pmf = binom.pmf(x, n, p)  # PMF calculation\n",
    "\n",
    "# Plotting PMF\n",
    "plt.bar(x, pmf)\n",
    "plt.xlabel('Number of Recycling Households')\n",
    "plt.ylabel('PMF')\n",
    "plt.title('Probability Mass Function for Recycling Households')\n",
    "plt.show()"
   ]
  },
  {
   "cell_type": "markdown",
   "id": "f5b0cd1c",
   "metadata": {},
   "source": [
    "### Exercise 4\n",
    "\n",
    "Model the time between discoveries of new species in a rainforest using an exponential distribution with a mean discovery rate of 0.3 species per year. Write a Python snippet that calculates the probability of discovering a new species within the next 2 years.\n"
   ]
  },
  {
   "cell_type": "code",
   "execution_count": 7,
   "id": "88112ae8",
   "metadata": {},
   "outputs": [
    {
     "data": {
      "text/plain": [
       "0.4511883639059735"
      ]
     },
     "execution_count": 7,
     "metadata": {},
     "output_type": "execute_result"
    }
   ],
   "source": [
    "from scipy.stats import expon\n",
    "\n",
    "rate = 0.3  # Mean discovery rate\n",
    "time_period = 2  # Time period in years\n",
    "\n",
    "probability = expon.cdf(time_period, scale=1/rate)  # Probability of discovery within time period\n",
    "probability"
   ]
  },
  {
   "cell_type": "markdown",
   "id": "a0b1dd33",
   "metadata": {},
   "source": [
    "### Exercise 5\n",
    "\n",
    "Given the `flow_rates` of daily river flow rates (in cubic metres per second), assumed to follow a normal distribution, write a Python function to calculate the probability of the flow rate exceeding a specific value (e.g. flood risk assessment).\n"
   ]
  },
  {
   "cell_type": "code",
   "execution_count": 8,
   "id": "8feaf74d",
   "metadata": {},
   "outputs": [
    {
     "name": "stdout",
     "output_type": "stream",
     "text": [
      "0.43090221652450544\n"
     ]
    }
   ],
   "source": [
    "from scipy.stats import norm\n",
    "\n",
    "flow_rates = np.array([450, 500, 550, 600, 650, 700, 750, 800, 850, 900]) # Example data for a year\n",
    "threshold = 700\n",
    "\n",
    "def flood_risk_probability(flow_rates, threshold):\n",
    "    mu, sigma = np.mean(flow_rates), np.std(flow_rates)  # Calculate mean and std dev\n",
    "    probability = 1 - norm.cdf(threshold, mu, sigma)  # Probability of exceeding threshold\n",
    "    return probability\n",
    "\n",
    "# Testing the function with example data\n",
    "print(flood_risk_probability(flow_rates, threshold))"
   ]
  },
  {
   "cell_type": "markdown",
   "id": "26fd094b-0fee-46f1-a4b8-73766813c42b",
   "metadata": {
    "tags": []
   },
   "source": [
    "#  \n",
    "\n",
    "<div align=\"center\" style=\" font-size: 80%; text-align: center; margin: 0 auto\">\n",
    "<img src=\"https://raw.githubusercontent.com/Explore-AI/Pictures/master/ExploreAI_logos/EAI_Blue_Dark.png\"  style=\"width:200px\";/>\n",
    "</div>"
   ]
  }
 ],
 "metadata": {
  "kernelspec": {
   "display_name": "Python 3 (ipykernel)",
   "language": "python",
   "name": "python3"
  },
  "language_info": {
   "codemirror_mode": {
    "name": "ipython",
    "version": 3
   },
   "file_extension": ".py",
   "mimetype": "text/x-python",
   "name": "python",
   "nbconvert_exporter": "python",
   "pygments_lexer": "ipython3",
   "version": "3.10.9"
  }
 },
 "nbformat": 4,
 "nbformat_minor": 5
}
