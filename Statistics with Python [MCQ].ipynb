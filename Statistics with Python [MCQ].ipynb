{
 "cells": [
  {
   "cell_type": "markdown",
   "id": "6c6ec73f",
   "metadata": {},
   "source": [
    "### Question 1\n",
    "\n",
    "##### Given the normal distribution of test completion times with a mean of 65 minutes and a standard deviation of 23 minutes, which snippet of code will correctly calculate the probability that a completion time will be between 40 and 100 minutes.\n",
    "\n",
    "- probability = norm.pdf(100, 65, 23) - norm.pdf(40, 65, 23)\n",
    "- probability = norm.pmf(100, 65, 23) - norm.pmf(40, 65, 23)\n",
    "- **`probability = norm.cdf(100, mean, std_dev) - norm.cdf(40, mean, std_dev)`**\n",
    "- probability = norm.cdf(65, 100, 40) - norm.cdf(23, 100, 40)\n"
   ]
  },
  {
   "cell_type": "markdown",
   "id": "7e6628a0",
   "metadata": {},
   "source": [
    "- Recall Cumulative Distribution Function (CDF), gives the probability that a random variable is less than or equal to a specific value. \n",
    "- norm.cdf(x, mean, std_dev) calculates the cumulative distribution function (CDF) of the normal distribution at the given value x with the specified mean and standard deviation.\n",
    "- In this case, norm.cdf(100, mean, std_dev) gives the probability of a completion time being less than or equal to 100 minutes, and norm.cdf(40, mean, std_dev) gives the probability of a completion time being less than or equal to 40 minutes.\n",
    "- Subtracting these two probabilities gives the probability that the completion time is between 40 and 100 minutes."
   ]
  },
  {
   "cell_type": "markdown",
   "id": "52fd259b",
   "metadata": {},
   "source": [
    "### Question 2\n",
    "\n",
    "##### Match the data types with their examples and choose the correct combination:\n",
    "\n",
    "\n",
    "Example data\n",
    "- `lap_times = [92.9, 93.5, 91.6] # List of lap times in seconds`\n",
    "- `doctors_kept_away = 3 # Number of doctors an apple keeps away`\n",
    "- `race_position = \"Second\" # Finishing position in a relay race`\n",
    "- `gender = \"Female\" # String describing genders`\n",
    "\n",
    "i) lap_times are a continuous data type.\n",
    "\n",
    "ii) doctors_kept_away is a discrete variable.\n",
    "\n",
    "iii) race_position nominal data type.\n",
    "\n",
    "iv) gender is a nominal variable.\n",
    "\n",
    "\n",
    "**i, ii & iv**"
   ]
  },
  {
   "cell_type": "markdown",
   "id": "ede2c7d4",
   "metadata": {},
   "source": [
    "### Question 3\n",
    "\n",
    "##### Fill in the missing inputs in the following code for plotting a normal probability density function, with mean = 0 and variance = 2:\n",
    "```\n",
    "import numpy as np\n",
    "import matplotlib.pyplot as plt\n",
    "from scipy.stats import norm\n",
    "%matplotlib inline\n",
    "\n",
    "mu = 0\n",
    "variance = 2\n",
    "\n",
    "sigma = np.<Missing code>(variance),\n",
    "x = np.linspace(mu-3*variance, mu+3*variance, 100)\n",
    "plt.plot(<Missing code>, <Missing code>.pdf(x, mu, sigma))\n",
    "```\n",
    "- sqrt, poisson, x*mu\n",
    "- **sqrt, norm, x**\n",
    "- log, norm, (x^3)\n",
    "- sqrt, poisson, x^3"
   ]
  },
  {
   "cell_type": "markdown",
   "id": "401a9eda",
   "metadata": {},
   "source": [
    "##### Explanation:\n",
    "\n",
    "- np.sqrt(variance) is used to calculate the standard deviation (sigma) from the given variance.\n",
    "- x = np.linspace(mu - 3 * sigma, mu + 3 * sigma, 100) generates 100 evenly spaced values between mu - 3 * sigma and mu + 3 * sigma for plotting the normal distribution curve.\n",
    "- plt.plot(x, norm.pdf(x, mu, sigma)) plots the normal distribution PDF using the calculated standard deviation (sigma) and mean (mu).\n",
    "- Additional lines (plt.xlabel, plt.ylabel, plt.title) are included to add labels and a title to the plot for better visualization."
   ]
  },
  {
   "cell_type": "markdown",
   "id": "c95bc196",
   "metadata": {},
   "source": [
    "### Question 4\n",
    "\n",
    "##### In Python, you have data representing a population with a mean (µ) of 50 and a standard deviation (σ) of 16. You draw a random sample of size n = 64. Write a Python snippet to calculate the standard deviation of the sample mean (\\bar{X}) and choose the correct output.\n",
    "\n",
    "- 5.4\n",
    "- 2.0\n",
    "- 1.2\n",
    "- 3.0"
   ]
  },
  {
   "cell_type": "markdown",
   "id": "d1e7d96d",
   "metadata": {},
   "source": [
    "We are to look for the SEM"
   ]
  },
  {
   "cell_type": "code",
   "execution_count": 4,
   "id": "a908c495",
   "metadata": {},
   "outputs": [
    {
     "name": "stdout",
     "output_type": "stream",
     "text": [
      "Given population mean: 50\n",
      "Given population standard deviation: 16\n",
      "\n",
      "Sample statistics:\n",
      "Sample mean: 48.405632070421184\n",
      "Sample standard deviation: 17.442452129803847\n",
      "Standard Error of the Mean (SEM): 2.180306516225481\n"
     ]
    }
   ],
   "source": [
    "import numpy as np\n",
    "\n",
    "# Given population parameters\n",
    "population_mean = 50\n",
    "population_std_dev = 16\n",
    "sample_size = 64\n",
    "\n",
    "# Step 1: Generate a random sample from the population\n",
    "sample = np.random.normal(population_mean, population_std_dev, sample_size)\n",
    "\n",
    "# Step 2: Calculate the sample standard deviation\n",
    "# Note: ddof=1 is used for the sample standard deviation to correct for Bessel's correction\n",
    "sample_std_dev = np.std(sample, ddof=1)\n",
    "\n",
    "# Step 3: Calculate the standard error of the mean (SEM)\n",
    "# SEM = s / sqrt(n), where s is the sample standard deviation, and n is the sample size\n",
    "sem = sample_std_dev / np.sqrt(sample_size)\n",
    "\n",
    "# Print the results\n",
    "print(\"Given population mean:\", population_mean)\n",
    "print(\"Given population standard deviation:\", population_std_dev)\n",
    "print(\"\\nSample statistics:\")\n",
    "print(\"Sample mean:\", np.mean(sample))\n",
    "print(\"Sample standard deviation:\", sample_std_dev)\n",
    "print(\"Standard Error of the Mean (SEM):\", sem)\n"
   ]
  },
  {
   "cell_type": "code",
   "execution_count": 12,
   "id": "69c3c8b8",
   "metadata": {},
   "outputs": [
    {
     "name": "stdout",
     "output_type": "stream",
     "text": [
      "Standard Deviation of the Sample Mean (SEM): 2.0\n"
     ]
    }
   ],
   "source": [
    "import math\n",
    "\n",
    "# Given values\n",
    "population_std_dev = 16\n",
    "sample_size = 64\n",
    "\n",
    "# Calculate the standard deviation of the sample mean (SEM)\n",
    "sample_mean_std_dev = population_std_dev / math.sqrt(sample_size)\n",
    "# NB this is the formula for finding SEM i.e standard deviation / squareroot of sample size\n",
    "\n",
    "print(\"Standard Deviation of the Sample Mean (SEM):\", sample_mean_std_dev)\n"
   ]
  },
  {
   "cell_type": "markdown",
   "id": "bc458a12",
   "metadata": {},
   "source": [
    "ie SEM =   $ {\\frac{\\sigma}{\\sqrt{n}}}, $"
   ]
  },
  {
   "cell_type": "code",
   "execution_count": 9,
   "id": "dc18f074",
   "metadata": {},
   "outputs": [
    {
     "data": {
      "text/plain": [
       "1.9021502066431335"
      ]
     },
     "execution_count": 9,
     "metadata": {},
     "output_type": "execute_result"
    }
   ],
   "source": [
    "stats.sem(sample)"
   ]
  },
  {
   "cell_type": "markdown",
   "id": "e346ca5f",
   "metadata": {},
   "source": [
    "### Question 5\n",
    "\n",
    "##### Given the Python code snippet below, complete the code, identify the correct null hypothesis (H_O), and state whether it is rejected based on the results from the code output:\n",
    "```\n",
    "import numpy as np\n",
    "from scipy import stats\n",
    "\n",
    "student_scores = np.array([55, 62, 67, 58, 63, 59, 61, 68, 60, 64])\n",
    "mu = 60\n",
    "x_bar = np.mean(student_scores)\n",
    "s = np.std(student_scores, ddof=1)\n",
    "n = len(student_scores)\n",
    "alpha = 0.05\n",
    "<COMPLETE> = (x_bar - mu) / (s / np.sqrt(n))\n",
    "<COMPLETE> = stats.t.cdf(t_stat, df=n-1) if t_stat < 0 else (1 - stats.t.cdf(t_stat, df=n-1))\n",
    "<COMPLETE>*=2\n",
    "\n",
    "print(\"T statistic:\", t_stat)\n",
    "print(\"P-value:\", p_value)\n",
    "```\n",
    "- The null hypothesis, that the mean test score is equal to 60, is rejected.\n",
    "- The null hypothesis, that the mean test score is less than 60, is not rejected.\n",
    "- The null hypothesis, that the mean test score is less than 60, is rejected.\n",
    "- **`The null hypothesis, that the mean test score is equal to 60, is not rejected.` ANS**"
   ]
  },
  {
   "cell_type": "markdown",
   "id": "bea6f0a8",
   "metadata": {},
   "source": [
    "Correct null hypothesis: **The null hypothesis (H₀) is that the mean test score is equal to 60.**\n",
    "\n",
    "Interpretation: The null hypothesis, that the mean test score is equal to 60, is not rejected. This conclusion is based on the p-value obtained from the t-test. **If the p-value is less than the chosen significance level (alpha), you would reject the null hypothesis. However, if the p-value is greater than or equal to alpha, you fail to reject the null hypothesis.** \n",
    "\n",
    "In this case, since the null hypothesis is not rejected, it means there is not enough evidence to suggest that the mean test score is different from 60 at the 0.05 significance level."
   ]
  },
  {
   "cell_type": "code",
   "execution_count": 5,
   "id": "ad6e2071",
   "metadata": {},
   "outputs": [
    {
     "name": "stdout",
     "output_type": "stream",
     "text": [
      "T statistic: 1.343501592923275\n",
      "P-value: 0.21200020507950157\n"
     ]
    }
   ],
   "source": [
    "from scipy import stats\n",
    "\n",
    "student_scores = np.array([55, 62, 67, 58, 63, 59, 61, 68, 60, 64])\n",
    "mu = 60\n",
    "x_bar = np.mean(student_scores)\n",
    "s = np.std(student_scores, ddof=1)\n",
    "n = len(student_scores)\n",
    "alpha = 0.05\n",
    "t_stat = (x_bar - mu) / (s / np.sqrt(n))\n",
    "p_value = stats.t.cdf(t_stat, df=n-1) if t_stat < 0 else (1 - stats.t.cdf(t_stat, df=n-1))\n",
    "p_value *= 2\n",
    "\n",
    "print(\"T statistic:\", t_stat)\n",
    "print(\"P-value:\", p_value)"
   ]
  },
  {
   "cell_type": "markdown",
   "id": "d157acc5",
   "metadata": {},
   "source": [
    "### Question 6\n",
    "\n",
    "##### Which statement best describes inferential statistics within the context of Python's data analysis?\n",
    "\n",
    "- Inferential statistics is used to formulate statistical models which make conclusions about sample statistics.\n",
    "- Inferential statistics is the main analysis of machine learning.\n",
    "- **Inferential statistics is used to make predictions or comparisons about a larger group (a population) using information gathered about a small part of that population. ANS**\n",
    "- Inferential statistics is a branch of sample statistics."
   ]
  },
  {
   "cell_type": "markdown",
   "id": "701a61a1",
   "metadata": {},
   "source": [
    "### Question 8\n",
    "\n",
    "##### Foodland shoppers have a mean grocery bill of R370 with a standard deviation of R100. What is the probability that a sample of 40 Foodland shoppers will have a mean grocery bill of over R400?\n",
    "\n",
    "- 0.9713\n",
    "- **0.029 ans**\n",
    "- 0.3821\n",
    "- 0.0"
   ]
  },
  {
   "cell_type": "code",
   "execution_count": 3,
   "id": "885ce788",
   "metadata": {},
   "outputs": [
    {
     "name": "stdout",
     "output_type": "stream",
     "text": [
      "Probability: 0.028889785561798664\n"
     ]
    }
   ],
   "source": [
    "# This is a case for CDF (i.e probability of greater than R400)\n",
    "mu = 370\n",
    "sigma = 100\n",
    "sample_size = 40\n",
    "desired_mean = 400\n",
    "\n",
    "# Calculate the z-score\n",
    "z_score = (desired_mean - mu) / (sigma / (sample_size ** 0.5))\n",
    "\n",
    "# Find the probability using the cumulative distribution function (CDF)\n",
    "probability = 1 - stats.norm.cdf(z_score)\n",
    "\n",
    "print(\"Probability:\", probability)\n"
   ]
  },
  {
   "cell_type": "code",
   "execution_count": 15,
   "id": "346b40a8",
   "metadata": {},
   "outputs": [
    {
     "name": "stdout",
     "output_type": "stream",
     "text": [
      "Probability: 0.028889785561798664\n"
     ]
    }
   ],
   "source": [
    "population_mean = 370\n",
    "population_std_dev = 100\n",
    "sample_size = 40\n",
    "desired_mean = 400\n",
    "\n",
    "# Find the probability using the cumulative distribution function (CDF)\n",
    "probability = 1 - norm.cdf(desired_mean, loc=population_mean, scale=population_std_dev / (sample_size ** 0.5))\n",
    "\n",
    "print(\"Probability:\", probability)"
   ]
  },
  {
   "cell_type": "markdown",
   "id": "68e46697",
   "metadata": {},
   "source": [
    "### Question 9\n",
    "\n",
    "##### Assuming the number of customers arriving at a cafe per hour follows a Poisson distribution with a mean (λ) of 8, what is the probability of serving exactly 6 customers in an hour? Use Python's scipy.stats.poisson module for the calculation.\n",
    "- 0.14037\n",
    "- **0.12214 ANS**\n",
    "- 0.10081\n",
    "- 0.10326"
   ]
  },
  {
   "cell_type": "code",
   "execution_count": 6,
   "id": "cfa64e92",
   "metadata": {},
   "outputs": [
    {
     "name": "stdout",
     "output_type": "stream",
     "text": [
      "Probability: 0.12213821545677205\n"
     ]
    }
   ],
   "source": [
    "from scipy.stats import poisson\n",
    "# Given parameters\n",
    "mean = 8\n",
    "customers_served = 6\n",
    "\n",
    "# Calculate the probability using the Poisson distribution pmf\n",
    "probability = poisson.pmf(customers_served, mean)\n",
    "\n",
    "print(\"Probability:\", probability)\n"
   ]
  },
  {
   "cell_type": "markdown",
   "id": "f49e0000",
   "metadata": {},
   "source": [
    "### Question 10\n",
    "\n",
    "##### Given a population with a mean of 100 and a standard deviation of 15, you sample 30 items. What is the probability that the sample mean will be less than 95? Use Python's scipy.stats.norm module to calculate the probability.\n",
    "- 0.30854\n",
    "- 0.02275\n",
    "- 0.15865\n",
    "- **0.03394 ANS**"
   ]
  },
  {
   "cell_type": "code",
   "execution_count": 7,
   "id": "561a4012",
   "metadata": {},
   "outputs": [
    {
     "name": "stdout",
     "output_type": "stream",
     "text": [
      "Probability: 0.033944577430914495\n"
     ]
    }
   ],
   "source": [
    "# Another cdf case\n",
    "from scipy.stats import norm\n",
    "\n",
    "population_mean = 100\n",
    "population_std_dev = 15\n",
    "sample_size = 30\n",
    "desired_mean = 95\n",
    "\n",
    "# Calculate the z-score\n",
    "z_score = (desired_mean - population_mean) / (population_std_dev / (sample_size ** 0.5))\n",
    "\n",
    "# Find the probability using the cumulative distribution function (CDF)\n",
    "probability = norm.cdf(z_score)\n",
    "\n",
    "print(\"Probability:\", probability)"
   ]
  },
  {
   "cell_type": "code",
   "execution_count": null,
   "id": "339eabf2",
   "metadata": {},
   "outputs": [],
   "source": []
  }
 ],
 "metadata": {
  "kernelspec": {
   "display_name": "Python 3 (ipykernel)",
   "language": "python",
   "name": "python3"
  },
  "language_info": {
   "codemirror_mode": {
    "name": "ipython",
    "version": 3
   },
   "file_extension": ".py",
   "mimetype": "text/x-python",
   "name": "python",
   "nbconvert_exporter": "python",
   "pygments_lexer": "ipython3",
   "version": "3.10.9"
  }
 },
 "nbformat": 4,
 "nbformat_minor": 5
}
